{
 "cells": [
  {
   "cell_type": "markdown",
   "metadata": {},
   "source": [
    "# publishing docker images\n",
    "\n",
    "```bash\n",
    "docker login\n",
    "\n",
    "\n",
    "docker tag labs_mlflow lecturing/dhbw-ds101-mlflow:1.0\n",
    "docker tag labs_notebook lecturing/dhbw-ds101-notebook:1.0\n",
    "\n",
    "docker push lecturing/dhbw-ds101-mlflow:1.0\n",
    "docker push lecturing/dhbw-ds101-notebook:1.0\n",
    "\n",
    "\n",
    "docker tag ml-app-template lecturing/dhbw-ds101-ml-app-template:1.0\n",
    "docker push lecturing/dhbw-ds101-ml-app-template:1.0\n",
    "```"
   ]
  },
  {
   "cell_type": "code",
   "execution_count": null,
   "metadata": {},
   "outputs": [],
   "source": []
  }
 ],
 "metadata": {
  "kernelspec": {
   "display_name": "Python 3",
   "language": "python",
   "name": "python3"
  },
  "language_info": {
   "codemirror_mode": {
    "name": "ipython",
    "version": 3
   },
   "file_extension": ".py",
   "mimetype": "text/x-python",
   "name": "python",
   "nbconvert_exporter": "python",
   "pygments_lexer": "ipython3",
   "version": "3.7.3"
  }
 },
 "nbformat": 4,
 "nbformat_minor": 2
}
