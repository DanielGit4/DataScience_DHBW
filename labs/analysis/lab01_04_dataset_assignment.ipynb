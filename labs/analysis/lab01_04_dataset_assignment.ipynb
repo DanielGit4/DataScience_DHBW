{
 "cells": [
  {
   "cell_type": "markdown",
   "metadata": {},
   "source": [
    "# data set assignment for each group\n",
    "\n",
    "Each group will get a data set and nees to perform some basic tasks.\n",
    "Afterwards $k$ groups will present their results. Where $k$ will depend on the total number of students (so everyone has presented at some point).\n",
    "\n",
    "Please build groups of up to 3 people.\n",
    "\n",
    "\n",
    "## data\n",
    "\n",
    "Various suggested datasets are outlined below. Choose one as a group.\n",
    "Mark your choice https://docs.google.com/spreadsheets/d/1adGb8ITPtucHDNjze7tNsfbnvH6bcxNJrbydaaFRmBQ/edit?usp=sharing here.\n",
    "\n",
    "> NOTE: each dataset can only be chose up to two times maximum **if not enough datasets are available** otherwise, each group should use a different dataset.\n",
    "\n",
    "In case someone else on the internet already has worked with this data and published a blog post or notebook do not blindly copy what this person did, rather try to understand why this was done and then do it yourself in your own way. Anyhow, during grading you will need to show that you understood the course material."
   ]
  },
  {
   "cell_type": "code",
   "execution_count": null,
   "metadata": {},
   "outputs": [],
   "source": [
    "import pandas as pd\n",
    "pd.set_option('display.max_colwidth', 1000)\n",
    "df = pd.read_csv('../data/datasets.csv', sep=';')\n",
    "df"
   ]
  },
  {
   "cell_type": "markdown",
   "metadata": {},
   "source": [
    "## tasks\n",
    "\n",
    "- data loading\n",
    "- cleanup\n",
    "- enrichment (when applicable)\n",
    "    - with other open data sources\n",
    "    - using geospatially related information\n",
    "    - time periodicities\n",
    "    - world bank data\n",
    "    - ...\n",
    "- basic summary statistics\n",
    "- visualize the data\n",
    "- custom visualization\n",
    "- look for anomalies or patterns\n",
    "- bonus: store cleaned dataset into a database (hint: one postgres instance is already started in docker)\n",
    "- bonus: T-SNE visualization of embeddings\n",
    "- create a report (it does not need to be a PDF or Woard ducment. A well written notebook where the code is put into a separate python package is just fine. It should support the story you want to show in the **presentation**.\n",
    "\n",
    "## presentation\n",
    "Presentation of the results (for $k$ groups). Each one has 8 minutes sharp. And then up to 5 minutes discussion. You will get a sign when 120 seconds are left, and a second reminder when 60 seconds are left.\n"
   ]
  },
  {
   "cell_type": "code",
   "execution_count": null,
   "metadata": {},
   "outputs": [],
   "source": []
  }
 ],
 "metadata": {
  "kernelspec": {
   "display_name": "Python 3",
   "language": "python",
   "name": "python3"
  },
  "language_info": {
   "codemirror_mode": {
    "name": "ipython",
    "version": 3
   },
   "file_extension": ".py",
   "mimetype": "text/x-python",
   "name": "python",
   "nbconvert_exporter": "python",
   "pygments_lexer": "ipython3",
   "version": "3.7.3"
  }
 },
 "nbformat": 4,
 "nbformat_minor": 4
}
