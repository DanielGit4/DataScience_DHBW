{
 "cells": [
  {
   "cell_type": "markdown",
   "metadata": {},
   "source": [
    "# Labs main\n",
    "\n",
    "## lab 1\n",
    "**basics, introduction, data loading & cleaning**\n",
    "\n",
    "Should we do a quick start with:\n",
    "- [python repetition (optional)](lab01_03_python_repetition.ipynb)\n",
    "\n",
    "Otherwise, let's dive directly.\n",
    "Some small exercises are included. Take 3-5 mins for each one trying to figure it out.\n",
    "Then, we will together work out a solution.\n",
    "\n",
    "- [basics](lab01_01basics.ipynb)\n",
    "- [pandas exercise 1](lab01_03_pandas_exercise.ipynb)\n",
    "- [pandas walk through larger data set (1)](lab01_03SelectingDataAndFindingTheMostCommonComplaintType_class.ipynb)\n",
    "- [pandas walk through larger data set (2)](lab01_03_value_counts_complaints.ipynb)\n",
    "- [pandas walk through larger data set (3)](lab01_03_CleaningUp.ipynb)\n",
    "- [time series](lab01_03_time_series.ipynb)\n",
    "- [data visualization using seaborn](lab01_03_seaborn_vis.ipynb)\n",
    "\n",
    "Many more topics could be covered (Images, Video, Social Networks(Graphs), Text, Audio), unfortunately, this is not possible due to time constraints.\n",
    "\n",
    "After giving you a basic toolkit now for the rest of the day - 90 minutes you should apply this toolkit on your own dataset. For the last 90 minutes half of the groups will give a short presentation.\n",
    "\n",
    "Your task:\n",
    "- [data set assignment](lab01_04_dataset_assignment.ipynb)\n",
    "\n",
    "## lab 2\n",
    "**ML modeling, cross validation, model evaluation**\n",
    "\n",
    "Again, we will walk through some basics togehter and I will hand you a tookit full of AI & ML.\n",
    "\n",
    "- [ml intro](lab02_01ml.ipynb)\n",
    "\n",
    "## lab 3\n",
    "**deployment of ML as API & governance**\n",
    "\n",
    "Now you can apply this knowledge again.\n",
    "This time the other half will present what they achieved in a similar setup."
   ]
  },
  {
   "cell_type": "code",
   "execution_count": null,
   "metadata": {},
   "outputs": [],
   "source": []
  }
 ],
 "metadata": {
  "kernelspec": {
   "display_name": "Python 3",
   "language": "python",
   "name": "python3"
  },
  "language_info": {
   "codemirror_mode": {
    "name": "ipython",
    "version": 3
   },
   "file_extension": ".py",
   "mimetype": "text/x-python",
   "name": "python",
   "nbconvert_exporter": "python",
   "pygments_lexer": "ipython3",
   "version": "3.7.3"
  }
 },
 "nbformat": 4,
 "nbformat_minor": 4
}
