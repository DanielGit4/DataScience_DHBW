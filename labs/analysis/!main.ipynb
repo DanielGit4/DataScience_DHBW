{
 "cells": [
  {
   "cell_type": "markdown",
   "metadata": {},
   "source": [
    "# Labs main\n",
    "\n",
    "## lab 1\n",
    "**basics, introduction, data loading & cleaning**\n",
    "\n",
    "- [python repetition (optional)](lab01_03_python_repetition.ipynb)\n",
    "- [basics](lab01_01basics.ipynb)\n",
    "- [pandas exercise 1](lab01_03_pandas_exercise.ipynb)\n",
    "- [pandas walk through larger data set (1)](lab01_03SelectingDataAndFindingTheMostCommonComplaintType_class.ipynb)\n",
    "- [pandas walk through larger data set (2)](lab01_03_value_counts_complaints.ipynb)\n",
    "- [pandas walk through larger data set (3)](lab01_03_CleaningUp.ipynb)\n",
    "\n",
    "- [data set assignment](lab01_04_dataset_assignment.ipynb)\n",
    "\n",
    "## lab 2\n",
    "**ML modeling, cross validation, model evaluation**\n",
    "\n",
    "- [ml intro](lab02_01ml.ipynb)\n",
    "\n",
    "## lab 3\n",
    "**deployment of ML as API & governance**"
   ]
  },
  {
   "cell_type": "code",
   "execution_count": 1,
   "metadata": {},
   "outputs": [
    {
     "name": "stdout",
     "output_type": "stream",
     "text": [
      "!main.ipynb                        lab01_01basics.ipynb\n",
      "LICENSE                            lab01_02_vscode.py\n",
      "\u001b[1m\u001b[36manalysis\u001b[m\u001b[m/                          lab01_03_dataset_assignment.ipynb\n",
      "births.csv                         lab02_01ml.ipynb\n"
     ]
    }
   ],
   "source": [
    "%ls"
   ]
  },
  {
   "cell_type": "markdown",
   "metadata": {},
   "source": [
    "# other stuff\n",
    "\n",
    "\n",
    "## common cleaning tasks & summary statistics\n",
    "\n",
    "\n",
    "## automatic the boring stuff work\n",
    "- intake: https://intake.readthedocs.io/en/latest/\n",
    "- singr https://www.singer.io/#what-it-is\n",
    "- pyjanitor https://pyjanitor.readthedocs.io/notebooks/dirty_data.html\n",
    "- prefect https://github.com/PrefectHQ/prefect\n",
    "\n",
    "## work on your particular dataset\n",
    "\n",
    "## one group presents their results so far\n",
    "\n",
    "solutions:\n",
    "    https://github.com/dask/dask-tutorial/blob/master/00_overview.ipynb"
   ]
  },
  {
   "cell_type": "code",
   "execution_count": null,
   "metadata": {},
   "outputs": [],
   "source": []
  }
 ],
 "metadata": {
  "kernelspec": {
   "display_name": "Python 3",
   "language": "python",
   "name": "python3"
  },
  "language_info": {
   "codemirror_mode": {
    "name": "ipython",
    "version": 3
   },
   "file_extension": ".py",
   "mimetype": "text/x-python",
   "name": "python",
   "nbconvert_exporter": "python",
   "pygments_lexer": "ipython3",
   "version": "3.7.3"
  }
 },
 "nbformat": 4,
 "nbformat_minor": 4
}
