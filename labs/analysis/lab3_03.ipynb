{
 "cells": [
  {
   "cell_type": "markdown",
   "metadata": {},
   "source": [
    "# E2E example with logging\n",
    "\n",
    "In a real production setup a lot of other concerns need to be handled as well:\n",
    "\n",
    "- hyper parameter optimization\n",
    "- high availability\n",
    "- fast serving\n",
    "- authorization\n",
    "- logging\n",
    "- monitoring of quality over time\n",
    "\n",
    "Here, no standard has evolved yet.\n",
    "\n",
    "Kubernetes looks like the winner for hosting any mordern IT workload. But serving infrastructure tailored to ML use cases on top of k8s is still unclear.\n",
    "Two frameworks which look interesting:\n",
    "- https://www.kubeflow.org\n",
    "- http://clipper.ai/\n",
    "\n",
    "> Do not get intimidated by the ecosystem: https://landscape.cncf.io \n",
    "\n",
    "Have a look at them after the course.\n",
    "Here, I will show you something a bit simpler but still with some of the most important components available:\n",
    "\n",
    "\n",
    "- https://github.com/ThoughtWorksInc/ml-cd-starter-kit\n",
    "- https://github.com/ThoughtWorksInc/ml-app-template\n",
    "\n",
    "https://www.kubeflow.org/docs/other-guides/virtual-dev/getting-started-minikube/\n",
    "\n",
    "## Addition"
   ]
  },
  {
   "cell_type": "markdown",
   "metadata": {},
   "source": []
  },
  {
   "cell_type": "markdown",
   "metadata": {},
   "source": [
    "## running it - creating a prediction"
   ]
  },
  {
   "cell_type": "code",
   "execution_count": null,
   "metadata": {},
   "outputs": [],
   "source": []
  },
  {
   "cell_type": "markdown",
   "metadata": {},
   "source": [
    "## setup (not relevant for the course)\n",
    "\n",
    "- connect to VPN (maybe not required when directly on campus\n",
    "  - on a mac: https://tunnelblick.net\n",
    "  - https://www.dhbw-stuttgart.de/themen/einrichtungen/itservice-center/informationen-fuer-studierende/wlan-vpn-zugang/\n",
    "\n",
    "On a mac install:\n",
    "\n",
    "- homebrew https://brew.sh/index_de\n",
    "- minikube `brew cask install minikube`\n",
    "- hypervisor `brew install hyperkit`\n",
    "- helm `brew install kubernetes-helm`\n",
    "\n",
    "```bash\n",
    "minikube start --kubernetes-version v1.15.4 --vm-driver=hyperkit --cpus 6 --memory 8192 --bootstrapper=kubeadm --extra-config=apiserver.authorization-mode=RBAC\n",
    "\n",
    "# see that it is working\n",
    "minikube dashboard\n",
    "\n",
    "# install and configure helm\n",
    "kubectl --namespace kube-system create serviceaccount tiller\n",
    "kubectl create clusterrolebinding tiller-cluster-rule --clusterrole=cluster-admin --serviceaccount=kube-system:tiller\n",
    "\n",
    "helm init\n",
    "\n",
    "kubectl create clusterrolebinding default-cluster-rule --clusterrole=cluster-admin --serviceaccount=default:default\n",
    "\n",
    "# first you need to disable some services if you do not have enough resources\n",
    "# https://github.com/ThoughtWorksInc/ml-cd-starter-kit/blob/master/docs/minikube.md\n",
    "# helm install --name ml-cd-starter-kit .\n",
    "\n",
    "kubectl get services\n",
    "\n",
    "minikube tunnel\n",
    "```"
   ]
  },
  {
   "cell_type": "code",
   "execution_count": null,
   "metadata": {},
   "outputs": [],
   "source": []
  }
 ],
 "metadata": {
  "kernelspec": {
   "display_name": "Python 3",
   "language": "python",
   "name": "python3"
  },
  "language_info": {
   "codemirror_mode": {
    "name": "ipython",
    "version": 3
   },
   "file_extension": ".py",
   "mimetype": "text/x-python",
   "name": "python",
   "nbconvert_exporter": "python",
   "pygments_lexer": "ipython3",
   "version": "3.7.3"
  }
 },
 "nbformat": 4,
 "nbformat_minor": 2
}
