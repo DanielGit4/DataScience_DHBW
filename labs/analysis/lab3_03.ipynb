{
 "cells": [
  {
   "cell_type": "markdown",
   "metadata": {},
   "source": [
    "# E2E example with logging\n",
    "\n",
    "In a real production setup a lot of other concerns need to be handled as well:\n",
    "\n",
    "- hyper parameter optimization\n",
    "- high availability\n",
    "- fast serving\n",
    "- authorization\n",
    "- logging\n",
    "- monitoring of quality over time\n",
    "\n",
    "Here, no standard has evolved yet.\n",
    "\n",
    "Kubernetes looks like the winner for hosting any mordern IT workload. But serving infrastructure tailored to ML use cases on top of k8s is still unclear.\n",
    "Two frameworks which look interesting:\n",
    "- https://www.kubeflow.org\n",
    "- http://clipper.ai/\n",
    "\n",
    "> Do not get intimidated by the ecosystem: https://landscape.cncf.io \n",
    "\n",
    "Have a look at them after the course.\n",
    "Here, I will show you something a bit simpler but still with some of the most important components available:\n",
    "\n",
    "\n",
    "- https://github.com/ThoughtWorksInc/ml-cd-starter-kit\n",
    "- https://github.com/ThoughtWorksInc/ml-app-template\n",
    "\n",
    "https://www.kubeflow.org/docs/other-guides/virtual-dev/getting-started-minikube/\n",
    "\n",
    "## Addition"
   ]
  },
  {
   "cell_type": "markdown",
   "metadata": {},
   "source": [
    "## Setup"
   ]
  },
  {
   "cell_type": "markdown",
   "metadata": {},
   "source": [
    "## running it - creating a prediction"
   ]
  },
  {
   "cell_type": "code",
   "execution_count": null,
   "metadata": {},
   "outputs": [],
   "source": []
  }
 ],
 "metadata": {
  "kernelspec": {
   "display_name": "Python 3",
   "language": "python",
   "name": "python3"
  },
  "language_info": {
   "codemirror_mode": {
    "name": "ipython",
    "version": 3
   },
   "file_extension": ".py",
   "mimetype": "text/x-python",
   "name": "python",
   "nbconvert_exporter": "python",
   "pygments_lexer": "ipython3",
   "version": "3.7.3"
  }
 },
 "nbformat": 4,
 "nbformat_minor": 2
}
