{
 "cells": [
  {
   "cell_type": "markdown",
   "metadata": {},
   "source": [
    "# ML E2E & governance\n",
    "\n",
    "## automatic the boring stuff work\n",
    "- intake: https://intake.readthedocs.io/en/latest/\n",
    "- singr https://www.singer.io/#what-it-is\n",
    "- pyjanitor https://pyjanitor.readthedocs.io/notebooks/dirty_data.html\n",
    "- prefect https://github.com/PrefectHQ/prefect\n",
    "\n",
    "- https://github.com/ThoughtWorksInc/ml-cd-starter-kit\n",
    "- https://github.com/ThoughtWorksInc/ml-app-template"
   ]
  },
  {
   "cell_type": "code",
   "execution_count": null,
   "metadata": {},
   "outputs": [],
   "source": []
  }
 ],
 "metadata": {
  "kernelspec": {
   "display_name": "Python 3",
   "language": "python",
   "name": "python3"
  },
  "language_info": {
   "codemirror_mode": {
    "name": "ipython",
    "version": 3
   },
   "file_extension": ".py",
   "mimetype": "text/x-python",
   "name": "python",
   "nbconvert_exporter": "python",
   "pygments_lexer": "ipython3",
   "version": "3.7.3"
  }
 },
 "nbformat": 4,
 "nbformat_minor": 2
}
