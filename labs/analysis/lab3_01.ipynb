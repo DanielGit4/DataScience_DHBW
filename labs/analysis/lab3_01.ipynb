{
 "cells": [
  {
   "cell_type": "markdown",
   "metadata": {},
   "source": [
    "# Automate & standardize the boring things\n",
    "\n",
    "## standardizing reading or moving or cleaning data \n",
    "- intake: https://intake.readthedocs.io/en/latest/\n",
    "- singr https://www.singer.io/#what-it-is\n",
    "- pyjanitor https://pyjanitor.readthedocs.io/notebooks/dirty_data.html\n",
    "\n",
    "## data catalog\n",
    "Important in larger organizations. A place where to store all data sources available with description how it is generated from raw data and what each column means.\n",
    "\n",
    "- intake: https://intake.readthedocs.io/en/latest/\n",
    "- atlas: https://atlas.apache.org\n",
    "\n",
    "## automation & scheduling\n",
    "\n",
    "- airflow https://atlas.apache.org (open source)\n",
    "- prefect https://github.com/PrefectHQ/prefect (open core, commercial UI)\n",
    "\n",
    "**An example using prefect.**\n",
    "\n",
    "Tasks describe what is executed"
   ]
  },
  {
   "cell_type": "code",
   "execution_count": null,
   "metadata": {},
   "outputs": [],
   "source": [
    "from prefect import task\n",
    "\n",
    "@task\n",
    "def extract():\n",
    "    \"\"\"Get a list of data\"\"\"\n",
    "    return [1, 2, 3]\n",
    "\n",
    "@task\n",
    "def transform(data):\n",
    "    \"\"\"Multiply the input by 10\"\"\"\n",
    "    return [i * 10 for i in data]\n",
    "\n",
    "@task\n",
    "def load(data):\n",
    "    \"\"\"Print the data to indicate it was received\"\"\"\n",
    "    print(\"Here's your data: {}\".format(data))"
   ]
  },
  {
   "cell_type": "markdown",
   "metadata": {},
   "source": [
    "A flow bundles multiple tasks"
   ]
  },
  {
   "cell_type": "code",
   "execution_count": null,
   "metadata": {},
   "outputs": [],
   "source": [
    "from prefect import Flow\n",
    "\n",
    "with Flow('ETL') as flow:\n",
    "    e = extract()\n",
    "    t = transform(e)\n",
    "    l = load(t)\n",
    "\n",
    "flow.run() # prints \"Here's your data: [10, 20, 30]\""
   ]
  },
  {
   "cell_type": "code",
   "execution_count": null,
   "metadata": {},
   "outputs": [],
   "source": [
    "flow.visualize()"
   ]
  },
  {
   "cell_type": "code",
   "execution_count": null,
   "metadata": {},
   "outputs": [],
   "source": [
    "from prefect.schedules import IntervalSchedule\n",
    "from datetime import timedelta\n",
    "schedule = IntervalSchedule(interval=timedelta(minutes=1))\n",
    "with Flow('ETL', schedule) as flow:\n",
    "    e = extract()\n",
    "    t = transform(e)\n",
    "    l = load(t)\n",
    "\n",
    "flow.run() # prints \"Here's your data: [10, 20, 30]\""
   ]
  },
  {
   "cell_type": "code",
   "execution_count": null,
   "metadata": {},
   "outputs": [],
   "source": [
    "flow.visualize()"
   ]
  },
  {
   "cell_type": "markdown",
   "metadata": {},
   "source": [
    "## Airflow\n",
    "\n",
    "https://airflow.apache.org\n",
    "\n",
    "- oss\n",
    "- completely free (even UI)\n",
    "\n",
    "run:\n",
    "\n",
    "```bash\n",
    "docker run -p 8080:8080 puckel/docker-airflow webserver\n",
    "```\n",
    "\n",
    "got to: http://localhost:8080\n",
    "\n",
    "in another shell:\n",
    "\n",
    "```bash\n",
    "docker ps\n",
    "\n",
    "# look at the id of the airflow container\n",
    "docker exec -ti <id> bash\n",
    "\n",
    "airflow list_dags\n",
    "\n",
    "# run your first task instance\n",
    "airflow run example_bash_operator runme_0 2019-12-01\n",
    "\n",
    "# prints the list of tasks the \"tutorial\" dag_id\n",
    "airflow list_tasks tutorial\n",
    "\n",
    "# prints the hierarchy of tasks in the tutorial DAG\n",
    "airflow list_tasks tutorial --tree\n",
    "\n",
    "# Generate some data in the UI\n",
    "# start your backfill on a date range\n",
    "airflow backfill tutorial -s 2015-06-01 -e 2015-06-07\n",
    "\n",
    "airflow run example_xcom runme_0 2019-12-01\n",
    "```\n",
    "\n",
    "\n",
    "visit localhost:8080 in the browser and enable the example dag in the home page\n",
    "\n",
    "\n",
    "Readalong for further information:\n",
    "- https://medium.com/@tomaszdudek/yet-another-scalable-apache-airflow-with-docker-example-setup-84775af5c451\n",
    "- https://medium.com/@itunpredictable/apache-airflow-on-docker-for-complete-beginners-cf76cf7b2c9a"
   ]
  },
  {
   "cell_type": "markdown",
   "metadata": {},
   "source": [
    "### locally (if you want)"
   ]
  },
  {
   "cell_type": "code",
   "execution_count": null,
   "metadata": {},
   "outputs": [],
   "source": [
    "# pip install apache-airflow"
   ]
  },
  {
   "cell_type": "code",
   "execution_count": null,
   "metadata": {},
   "outputs": [],
   "source": [
    "# initialize the database\n",
    "!airflow initdb"
   ]
  },
  {
   "cell_type": "code",
   "execution_count": null,
   "metadata": {},
   "outputs": [],
   "source": [
    "# start the web server on 8081\n",
    "!airflow webserver -p 8081"
   ]
  },
  {
   "cell_type": "markdown",
   "metadata": {},
   "source": [
    "go to: http://localhost:8081\n",
    "\n",
    "cleanup:\n",
    "\n",
    "\n",
    "```bash\n",
    "docker ps # find the right id\n",
    "docker stop <<id>>\n",
    "docker stop 12bcab527bb2\n",
    "````"
   ]
  },
  {
   "cell_type": "code",
   "execution_count": null,
   "metadata": {},
   "outputs": [],
   "source": []
  }
 ],
 "metadata": {
  "kernelspec": {
   "display_name": "Python 3",
   "language": "python",
   "name": "python3"
  },
  "language_info": {
   "codemirror_mode": {
    "name": "ipython",
    "version": 3
   },
   "file_extension": ".py",
   "mimetype": "text/x-python",
   "name": "python",
   "nbconvert_exporter": "python",
   "pygments_lexer": "ipython3",
   "version": "3.7.3"
  }
 },
 "nbformat": 4,
 "nbformat_minor": 2
}
