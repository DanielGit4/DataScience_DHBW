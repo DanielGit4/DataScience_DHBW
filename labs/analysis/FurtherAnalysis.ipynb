{
 "cells": [
  {
   "cell_type": "markdown",
   "metadata": {},
   "source": [
    "# Further analytical possibilities\n",
    "\n",
    "- https://www.kaggle.com/headsortails/steering-wheel-of-fortune-porto-seguro-eda\n",
    "- https://supervised-ml-course.netlify.com/chapter2\n",
    "- https://supervised-ml-course.netlify.com/chapter3\n",
    "- https://supervised-ml-course.netlify.com/chapter4"
   ]
  },
  {
   "cell_type": "code",
   "execution_count": null,
   "metadata": {},
   "outputs": [],
   "source": []
  }
 ],
 "metadata": {
  "kernelspec": {
   "display_name": "Python 3",
   "language": "python",
   "name": "python3"
  },
  "language_info": {
   "codemirror_mode": {
    "name": "ipython",
    "version": 3
   },
   "file_extension": ".py",
   "mimetype": "text/x-python",
   "name": "python",
   "nbconvert_exporter": "python",
   "pygments_lexer": "ipython3",
   "version": "3.7.3"
  }
 },
 "nbformat": 4,
 "nbformat_minor": 2
}
